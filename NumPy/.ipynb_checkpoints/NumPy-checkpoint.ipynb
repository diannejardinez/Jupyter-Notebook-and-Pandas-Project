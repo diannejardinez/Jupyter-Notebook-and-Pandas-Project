{
 "cells": [
  {
   "cell_type": "code",
   "execution_count": null,
   "metadata": {},
   "outputs": [],
   "source": []
  },
  {
   "cell_type": "markdown",
   "metadata": {},
   "source": [
    "## Creating Arrays"
   ]
  },
  {
   "cell_type": "code",
   "execution_count": 1,
   "metadata": {},
   "outputs": [
    {
     "name": "stdout",
     "output_type": "stream",
     "text": [
      "[1 2 3 4]\n",
      "<class 'numpy.ndarray'>\n"
     ]
    }
   ],
   "source": [
    "# Import the numpy package\n",
    "import numpy as np\n",
    "\n",
    "# Create a 1d integer array from a list\n",
    "arr1 = np.array([1, 2, 3, 4])\n",
    "\n",
    "# Print the array and its type\n",
    "print(arr1)\n",
    "print(type(arr1))"
   ]
  },
  {
   "cell_type": "code",
   "execution_count": 2,
   "metadata": {},
   "outputs": [
    {
     "name": "stdout",
     "output_type": "stream",
     "text": [
      "<class 'numpy.ndarray'>\n",
      "[1. 2. 3. 4.]\n"
     ]
    }
   ],
   "source": [
    "# Create a 1d float array\n",
    "arr2 = np.array([1, 2, 3, 4], dtype='float32')\n",
    "\n",
    "# Print the array and its type\n",
    "print(type(arr2))\n",
    "print(arr2)"
   ]
  },
  {
   "cell_type": "code",
   "execution_count": 3,
   "metadata": {},
   "outputs": [
    {
     "name": "stdout",
     "output_type": "stream",
     "text": [
      "[[0 1 2]\n",
      " [3 4 5]\n",
      " [6 7 8]]\n"
     ]
    }
   ],
   "source": [
    "# Create a 2d array from a list of lists\n",
    "lists = [[0,1,2], [3,4,5], [6,7,8]]\n",
    "arr2d = np.array(lists)\n",
    "\n",
    "print(arr2d)"
   ]
  },
  {
   "cell_type": "code",
   "execution_count": 4,
   "metadata": {},
   "outputs": [
    {
     "name": "stdout",
     "output_type": "stream",
     "text": [
      "[1 2 3 4]\n",
      "[2 4 6 8]\n",
      "[3 4 5 6]\n",
      "[ 1  4  9 16]\n"
     ]
    }
   ],
   "source": [
    "arr1 = np.array([1, 2, 3, 4])\n",
    "print(arr1)\n",
    "\n",
    "# Vector (element-wise) operations\n",
    "print(arr1 * 2)\n",
    "print(arr1 + 2)\n",
    "print(arr1 * arr1)"
   ]
  },
  {
   "cell_type": "code",
   "execution_count": 5,
   "metadata": {},
   "outputs": [
    {
     "data": {
      "text/plain": [
       "array([[[0, 7, 5],\n",
       "        [2, 3, 3],\n",
       "        [5, 7, 1]],\n",
       "\n",
       "       [[9, 1, 3],\n",
       "        [2, 5, 5],\n",
       "        [3, 9, 6]],\n",
       "\n",
       "       [[4, 7, 0],\n",
       "        [4, 3, 6],\n",
       "        [0, 8, 0]]])"
      ]
     },
     "execution_count": 5,
     "metadata": {},
     "output_type": "execute_result"
    }
   ],
   "source": [
    "# Create an integer array of length 100 filled with zeros\n",
    "np.zeros(100, dtype=int)\n",
    "\n",
    "# Create a 3x3 floating-point array filled with 1s\n",
    "np.ones((3, 3), dtype=float)\n",
    "\n",
    "# Create an array filled with a linear sequence\n",
    "# Starting at 0, ending at 20, stepping by 3\n",
    "# (this is similar to the built-in range() function)\n",
    "np.arange(0, 20, 3)\n",
    "\n",
    "# Create an array of hundred values evenly spaced between 0 and 1\n",
    "np.linspace(0, 1, 100)\n",
    "\n",
    "# Create a 3x3 array of uniformly distributed random values between 0 and 1\n",
    "np.random.random((3, 3))\n",
    "\n",
    "# Create a 3x3 array of random integers in the interval [0, 10)\n",
    "np.random.randint(0, 10, (3, 3))\n",
    "\n",
    "# Create a 3x3 array of normally distributed random values\n",
    "# with mean 0 and standard deviation 1\n",
    "np.random.normal(0, 1, (3, 3))\n",
    "\n",
    "np.random.randint(10, size=6)  # One-dimensional array of random integers\n",
    "np.random.randint(10, size=(3, 3))  # Two-dimensional array of random integers\n",
    "np.random.randint(10, size=(3, 3, 3))  # Three-dimensional array of random integers"
   ]
  },
  {
   "cell_type": "markdown",
   "metadata": {},
   "source": [
    "## Array Attributes"
   ]
  },
  {
   "cell_type": "code",
   "execution_count": 6,
   "metadata": {},
   "outputs": [
    {
     "name": "stdout",
     "output_type": "stream",
     "text": [
      "ndim:  2\n",
      "shape: (3, 3)\n",
      "x size:  9\n",
      "dtype: int64\n",
      "itemsize: 8 bytes\n",
      "nbytes: 72 bytes\n"
     ]
    }
   ],
   "source": [
    "import numpy as np\n",
    "\n",
    "# Create a 3x3 array of random integers in the interval [0, 10)\n",
    "x = np.random.randint(0, 10, (3, 3))\n",
    "\n",
    "print(\"ndim: \", x.ndim)\n",
    "print(\"shape:\", x.shape)\n",
    "print(\"x size: \", x.size)\n",
    "print(\"dtype:\", x.dtype)\n",
    "print(\"itemsize:\", x.itemsize, \"bytes\")\n",
    "print(\"nbytes:\", x.nbytes, \"bytes\")"
   ]
  },
  {
   "cell_type": "markdown",
   "metadata": {},
   "source": [
    "## Array Indexing: Accessing Single Elements"
   ]
  },
  {
   "cell_type": "code",
   "execution_count": 7,
   "metadata": {},
   "outputs": [
    {
     "name": "stdout",
     "output_type": "stream",
     "text": [
      "1\n"
     ]
    }
   ],
   "source": [
    "# Input array\n",
    "x1 = np.array([1, 3, 4, 4, 6, 4])\n",
    "\n",
    "# Assess the first value of x1\n",
    "x1[0]\n",
    "#> 1\n",
    "\n",
    "# Assess the third value of x1\n",
    "x1[2]\n",
    "#> 4\n",
    "\n",
    "# To view the output, you can add print statemtents\n",
    "print(x1[0])"
   ]
  },
  {
   "cell_type": "code",
   "execution_count": 8,
   "metadata": {},
   "outputs": [
    {
     "data": {
      "text/plain": [
       "6"
      ]
     },
     "execution_count": 8,
     "metadata": {},
     "output_type": "execute_result"
    }
   ],
   "source": [
    "# Get the last value of x1\n",
    "x1[-1]\n",
    "#> 4\n",
    "\n",
    "# Get the second last value of x1\n",
    "x1[-2]\n",
    "#> 6"
   ]
  },
  {
   "cell_type": "markdown",
   "metadata": {},
   "source": [
    "## Reshaping of Arrays"
   ]
  },
  {
   "cell_type": "code",
   "execution_count": 9,
   "metadata": {},
   "outputs": [
    {
     "name": "stdout",
     "output_type": "stream",
     "text": [
      "[[1 2 3]\n",
      " [4 5 6]\n",
      " [7 8 9]]\n"
     ]
    }
   ],
   "source": [
    "import numpy as np\n",
    "\n",
    "reshaped = np.arange(1, 10).reshape((3, 3))\n",
    "print(reshaped)"
   ]
  },
  {
   "cell_type": "code",
   "execution_count": 10,
   "metadata": {},
   "outputs": [
    {
     "name": "stdout",
     "output_type": "stream",
     "text": [
      "[1 2 3]\n",
      "[[1 2 3]]\n",
      "[[1]\n",
      " [2]\n",
      " [3]]\n"
     ]
    }
   ],
   "source": [
    "x = np.array([1, 2, 3])\n",
    "print(x)\n",
    "\n",
    "# row vector via reshape\n",
    "x_rv= x.reshape((1, 3))\n",
    "print(x_rv)\n",
    "\n",
    "# column vector via reshape\n",
    "x_cv = x.reshape((3, 1))\n",
    "print(x_cv)"
   ]
  },
  {
   "cell_type": "markdown",
   "metadata": {},
   "source": [
    "## Concatenation and Splitting of Arrays"
   ]
  },
  {
   "cell_type": "code",
   "execution_count": 11,
   "metadata": {},
   "outputs": [
    {
     "data": {
      "text/plain": [
       "array([[1, 2, 3],\n",
       "       [4, 5, 6],\n",
       "       [1, 2, 3],\n",
       "       [4, 5, 6]])"
      ]
     },
     "execution_count": 11,
     "metadata": {},
     "output_type": "execute_result"
    }
   ],
   "source": [
    "# We can concatenate two or more arrays at once.\n",
    "x = np.array([1, 2, 3])\n",
    "y = np.array([3, 2, 1])\n",
    "z = [11,11,11]\n",
    "\n",
    "np.concatenate([x, y, z])\n",
    "#> array([ 1,  2,  3,  3,  2,  1, 11, 11, 11])\n",
    "\n",
    "# We can also concatenate 2-dimensional arrays.\n",
    "grid = np.array([[1,2,3] , [4,5,6]])\n",
    "np.concatenate([grid, grid])\n",
    "#> array([[1, 2, 3],\n",
    "#>       [4, 5, 6],\n",
    "#>       [1, 2, 3],\n",
    "#>       [4, 5, 6]])"
   ]
  },
  {
   "cell_type": "code",
   "execution_count": 12,
   "metadata": {},
   "outputs": [
    {
     "data": {
      "text/plain": [
       "array([[ 1,  2,  3, 19],\n",
       "       [ 9, 10, 11, 19]])"
      ]
     },
     "execution_count": 12,
     "metadata": {},
     "output_type": "execute_result"
    }
   ],
   "source": [
    "x = np.array([3,4,5])\n",
    "grid = np.array([[1,2,3],[9,10,11]])\n",
    "\n",
    "np.vstack([x,grid]) # vertically stack the arrays\n",
    "#> array([[ 3,  4,  5],\n",
    "#>       [ 1,  2,  3],\n",
    "#>       [9, 10, 11]])\n",
    "\n",
    "z = np.array([[19],[19]])\n",
    "np.hstack([grid,z])  # horizontally stack the arrays\n",
    "#> array([[ 1,  2,  3, 19],\n",
    "#>       [9, 10, 11, 19]])"
   ]
  },
  {
   "cell_type": "code",
   "execution_count": 13,
   "metadata": {},
   "outputs": [
    {
     "name": "stdout",
     "output_type": "stream",
     "text": [
      "[0 1 2] [3 4 5] [6 7 8 9]\n"
     ]
    }
   ],
   "source": [
    "x = np.arange(10)\n",
    "#> array([0, 1, 2, 3, 4, 5, 6, 7, 8, 9])\n",
    "\n",
    "x1, x2, x3 = np.split(x,[3,6])\n",
    "print(x1, x2, x3)\n",
    "#> [0 1 2] [3 4 5] [6 7 8 9]"
   ]
  },
  {
   "cell_type": "code",
   "execution_count": 14,
   "metadata": {},
   "outputs": [
    {
     "name": "stdout",
     "output_type": "stream",
     "text": [
      "[[ 0  1  2  3]\n",
      " [ 4  5  6  7]\n",
      " [ 8  9 10 11]\n",
      " [12 13 14 15]] \n",
      "\n",
      "[[0 1 2 3]\n",
      " [4 5 6 7]]\n",
      "[[ 8  9 10 11]\n",
      " [12 13 14 15]] \n",
      "\n",
      "[[ 0  1]\n",
      " [ 4  5]\n",
      " [ 8  9]\n",
      " [12 13]]\n",
      "[[ 2  3]\n",
      " [ 6  7]\n",
      " [10 11]\n",
      " [14 15]]\n"
     ]
    }
   ],
   "source": [
    "# Using grid\n",
    "\n",
    "import numpy as np\n",
    "\n",
    "grid = np.arange(16).reshape((4, 4))\n",
    "print(grid, \"\\n\")\n",
    "\n",
    "# Split vertically and print upper and lower arrays\n",
    "upper, lower = np.vsplit(grid, [2])\n",
    "print(upper)\n",
    "print(lower, \"\\n\")\n",
    "\n",
    "# Split horizontally and print left and right arrays\n",
    "left, right = np.hsplit(grid, [2])\n",
    "print(left)\n",
    "print(right)"
   ]
  },
  {
   "cell_type": "markdown",
   "metadata": {},
   "source": [
    "## Computations on NumPy Arrays"
   ]
  },
  {
   "cell_type": "code",
   "execution_count": 15,
   "metadata": {},
   "outputs": [
    {
     "name": "stdout",
     "output_type": "stream",
     "text": [
      "x = [0 1 2 3 4 5 6 7 8 9]\n",
      "x + 5 = [ 5  6  7  8  9 10 11 12 13 14]\n",
      "x - 5 = [-5 -4 -3 -2 -1  0  1  2  3  4]\n",
      "x * 5 = [ 0  5 10 15 20 25 30 35 40 45]\n",
      "x / 5 = [0.  0.2 0.4 0.6 0.8 1.  1.2 1.4 1.6 1.8]\n",
      "x ** 2 =  [ 0  1  4  9 16 25 36 49 64 81]\n",
      "x % 2  =  [0 1 0 1 0 1 0 1 0 1]\n",
      "[ 5  6  7  8  9 10 11 12 13 14]\n",
      "[-5 -4 -3 -2 -1  0  1  2  3  4]\n",
      "[ 0  5 10 15 20 25 30 35 40 45]\n",
      "[0.  0.2 0.4 0.6 0.8 1.  1.2 1.4 1.6 1.8]\n",
      "[ 0  1  4  9 16 25 36 49 64 81]\n",
      "[0 1 0 1 0 1 0 1 0 1]\n"
     ]
    }
   ],
   "source": [
    "#Basic built-in aggregate functions\n",
    "\n",
    "import numpy as np\n",
    "\n",
    "x = np.arange(10)\n",
    "\n",
    "# Native arithmentic operators\n",
    "print(\"x =\", x)\n",
    "print(\"x + 5 =\", x + 5)\n",
    "print(\"x - 5 =\", x - 5)\n",
    "print(\"x * 5 =\", x * 5)\n",
    "print(\"x / 5 =\", x / 5)\n",
    "print(\"x ** 2 = \", x ** 2)\n",
    "print(\"x % 2  = \", x % 2)\n",
    "\n",
    "# OR we can use explicit functions, ufuncs, e.g. \"add\" instead of \"+\"\n",
    "print(np.add(x, 5))\n",
    "print(np.subtract(x, 5))\n",
    "print(np.multiply(x, 5))\n",
    "print(np.divide(x, 5))\n",
    "print(np.power(x, 2))\n",
    "print(np.mod(x, 2))"
   ]
  },
  {
   "cell_type": "code",
   "execution_count": 16,
   "metadata": {},
   "outputs": [
    {
     "name": "stdout",
     "output_type": "stream",
     "text": [
      "x     = [1, 2, 3]\n",
      "e^x   = [ 2.71828183  7.3890561  20.08553692]\n",
      "2^x   = [2. 4. 8.]\n",
      "3^x   = [ 3  9 27]\n",
      "ln(x)    = [0.         0.69314718 1.09861229]\n",
      "log2(x)  = [0.        1.        1.5849625]\n",
      "log10(x) = [0.         0.30103    0.47712125]\n"
     ]
    }
   ],
   "source": [
    "# Useful in machine learning models\n",
    "\n",
    "x = [1, 2, 3]\n",
    "print(\"x     =\", x)\n",
    "print(\"e^x   =\", np.exp(x))\n",
    "print(\"2^x   =\", np.exp2(x))\n",
    "print(\"3^x   =\", np.power(3, x))\n",
    "\n",
    "print(\"ln(x)    =\", np.log(x))\n",
    "print(\"log2(x)  =\", np.log2(x))\n",
    "print(\"log10(x) =\", np.log10(x))"
   ]
  },
  {
   "cell_type": "code",
   "execution_count": 17,
   "metadata": {},
   "outputs": [
    {
     "name": "stdout",
     "output_type": "stream",
     "text": [
      "Sum of values is: 52.973006183402916\n",
      "Mean value is:  0.5297300618340292\n",
      "Sum of values is: 52.973006183402916\n",
      "Mean value is:  0.5297300618340292\n",
      "Max value is:  0.9904710638939186\n",
      "Min value is:  0.002620427658997837\n"
     ]
    }
   ],
   "source": [
    "# Built-in aggregate functions that allow us to summarize our data\n",
    "\n",
    "import numpy as np\n",
    "\n",
    "x = np.random.random(100)\n",
    "\n",
    "# Sum of all the values\n",
    "print(\"Sum of values is:\", np.sum(x))\n",
    "# Mean value\n",
    "print(\"Mean value is: \", np.mean(x))\n",
    "\n",
    "#For min, max, sum, and several other NumPy aggregates, \n",
    "print(\"Sum of values is:\", x.sum())\n",
    "print(\"Mean value is: \", x.mean())\n",
    "print(\"Max value is: \", x.max())\n",
    "print(\"Min value is: \", x.min())"
   ]
  },
  {
   "cell_type": "code",
   "execution_count": 18,
   "metadata": {},
   "outputs": [
    {
     "name": "stdout",
     "output_type": "stream",
     "text": [
      "[[0.89933845 0.68200115 0.10474607 0.15904557]\n",
      " [0.84427468 0.05383434 0.4877399  0.62247463]\n",
      " [0.04472933 0.15938772 0.50356592 0.91191328]]\n",
      "Overall sum: 5.473051028077078\n",
      "Overall Min: 0.04472933209635466\n",
      "Column wise minimum:  [0.04472933 0.05383434 0.10474607 0.15904557]\n",
      "Row wise minimum:  [0.10474607 0.05383434 0.04472933]\n"
     ]
    }
   ],
   "source": [
    "# Compute minimum row wise or column wise\n",
    "\n",
    "import numpy as np\n",
    "\n",
    "grid = np.random.random((3, 4))\n",
    "print(grid)\n",
    "\n",
    "print(\"Overall sum:\", grid.sum())\n",
    "print(\"Overall Min:\", grid.min())\n",
    "\n",
    "# Row wise and column wise min\n",
    "print(\"Column wise minimum: \", np.amin(grid, axis=0))\n",
    "print(\"Row wise minimum: \", np.amin(grid, axis=1))"
   ]
  },
  {
   "cell_type": "markdown",
   "metadata": {},
   "source": [
    "## Comparisons and Boolean Masks"
   ]
  },
  {
   "cell_type": "code",
   "execution_count": 19,
   "metadata": {},
   "outputs": [
    {
     "name": "stdout",
     "output_type": "stream",
     "text": [
      "[0 1 2 3 4 5 6 7 8 9]\n",
      "6\n",
      "True\n",
      "True\n"
     ]
    }
   ],
   "source": [
    "import numpy as np\n",
    "\n",
    "x = np.arange(10)\n",
    "print(x)\n",
    "\n",
    "# How many values less than 6?\n",
    "print(np.count_nonzero(x < 6))\n",
    "\n",
    "# Are there any values greater than 8?\n",
    "print(np.any(x > 8))\n",
    "\n",
    "# Are all values less than 10?\n",
    "print(np.all(x < 10))"
   ]
  },
  {
   "cell_type": "code",
   "execution_count": 20,
   "metadata": {},
   "outputs": [
    {
     "name": "stdout",
     "output_type": "stream",
     "text": [
      "[[6 7 4]\n",
      " [5 1 3]\n",
      " [3 1 8]]\n",
      "[[False False  True]\n",
      " [ True  True  True]\n",
      " [ True  True False]]\n",
      "[4 5 1 3 3 1]\n"
     ]
    }
   ],
   "source": [
    "import numpy as np \n",
    "\n",
    "# Random integers between [0, 10) of shape 3x3\n",
    "x = np.random.randint(0, 10, (3, 3))\n",
    "print(x)\n",
    "\n",
    "# Boolean array\n",
    "print(x < 6)\n",
    "\n",
    "# Boolean mask\n",
    "print(x[x < 6])\n"
   ]
  },
  {
   "cell_type": "code",
   "execution_count": null,
   "metadata": {},
   "outputs": [],
   "source": []
  }
 ],
 "metadata": {
  "kernelspec": {
   "display_name": "Python 3",
   "language": "python",
   "name": "python3"
  },
  "language_info": {
   "codemirror_mode": {
    "name": "ipython",
    "version": 3
   },
   "file_extension": ".py",
   "mimetype": "text/x-python",
   "name": "python",
   "nbconvert_exporter": "python",
   "pygments_lexer": "ipython3",
   "version": "3.7.4"
  }
 },
 "nbformat": 4,
 "nbformat_minor": 4
}
