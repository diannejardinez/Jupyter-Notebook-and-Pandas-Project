{
 "cells": [
  {
   "cell_type": "code",
   "execution_count": 1,
   "metadata": {},
   "outputs": [],
   "source": [
    "import numpy as np"
   ]
  },
  {
   "cell_type": "markdown",
   "metadata": {},
   "source": [
    "# Q1.Create a null vector (all zeros) of size 10 and set it in the variable called “Z”."
   ]
  },
  {
   "cell_type": "code",
   "execution_count": 2,
   "metadata": {},
   "outputs": [
    {
     "data": {
      "text/plain": [
       "array([0, 0, 0, 0, 0, 0, 0, 0, 0, 0])"
      ]
     },
     "execution_count": 2,
     "metadata": {},
     "output_type": "execute_result"
    }
   ],
   "source": [
    "Z = np.zeros(10, dtype=int)\n",
    "Z"
   ]
  },
  {
   "cell_type": "markdown",
   "metadata": {},
   "source": [
    "# Q2. Create a 1D array of numbers from 0 to 9 and set it in the variable called “arr”. "
   ]
  },
  {
   "cell_type": "code",
   "execution_count": 3,
   "metadata": {},
   "outputs": [
    {
     "data": {
      "text/plain": [
       "array([0, 1, 2, 3, 4, 5, 6, 7, 8, 9])"
      ]
     },
     "execution_count": 3,
     "metadata": {},
     "output_type": "execute_result"
    }
   ],
   "source": [
    "arr = np.arange(0, 10,1)\n",
    "arr"
   ]
  },
  {
   "cell_type": "markdown",
   "metadata": {},
   "source": [
    "# Q3. Create a 3x3x3 array with random values and set it in the variable called “arr”."
   ]
  },
  {
   "cell_type": "code",
   "execution_count": 4,
   "metadata": {},
   "outputs": [
    {
     "data": {
      "text/plain": [
       "array([[[3, 0, 3],\n",
       "        [9, 6, 1],\n",
       "        [8, 5, 4]],\n",
       "\n",
       "       [[7, 1, 0],\n",
       "        [4, 0, 2],\n",
       "        [3, 5, 0]],\n",
       "\n",
       "       [[1, 9, 1],\n",
       "        [6, 5, 7],\n",
       "        [1, 0, 3]]])"
      ]
     },
     "execution_count": 4,
     "metadata": {},
     "output_type": "execute_result"
    }
   ],
   "source": [
    "arr = np.random.randint(10, size=(3, 3, 3))\n",
    "arr"
   ]
  },
  {
   "cell_type": "markdown",
   "metadata": {},
   "source": [
    "# Q4. Create a 10x10 array with random values called “arr4”. Find its minimum and maximum values and set them in the variables called “min_val” and “max_val” respectively."
   ]
  },
  {
   "cell_type": "code",
   "execution_count": 5,
   "metadata": {},
   "outputs": [
    {
     "data": {
      "text/plain": [
       "array([[9, 5, 5, 7, 0, 4, 3, 8, 7, 4],\n",
       "       [2, 7, 1, 0, 1, 7, 5, 1, 6, 5],\n",
       "       [1, 9, 7, 9, 2, 6, 2, 7, 4, 7],\n",
       "       [9, 2, 8, 9, 8, 4, 0, 2, 2, 5],\n",
       "       [8, 9, 8, 9, 8, 9, 2, 7, 7, 4],\n",
       "       [3, 9, 6, 7, 0, 2, 2, 2, 8, 7],\n",
       "       [9, 5, 6, 6, 1, 2, 4, 0, 2, 2],\n",
       "       [1, 7, 6, 6, 6, 9, 6, 8, 1, 8],\n",
       "       [3, 9, 3, 8, 4, 2, 6, 1, 8, 4],\n",
       "       [4, 6, 4, 7, 5, 7, 1, 1, 3, 2]])"
      ]
     },
     "execution_count": 5,
     "metadata": {},
     "output_type": "execute_result"
    }
   ],
   "source": [
    "arr4 = np.random.randint(10, size=(10,10))\n",
    "arr4"
   ]
  },
  {
   "cell_type": "code",
   "execution_count": 6,
   "metadata": {},
   "outputs": [
    {
     "data": {
      "text/plain": [
       "9"
      ]
     },
     "execution_count": 6,
     "metadata": {},
     "output_type": "execute_result"
    }
   ],
   "source": [
    "min_val = arr4.min()\n",
    "# min_val\n",
    "\n",
    "max_val= arr4.max()\n",
    "max_val\n",
    "\n"
   ]
  },
  {
   "cell_type": "markdown",
   "metadata": {},
   "source": [
    "# Q5. First create a 1D array with numbers from 1 to 9 and then convert it into a 3x3 grid. Store the final answer in the variable called “grid”."
   ]
  },
  {
   "cell_type": "code",
   "execution_count": 7,
   "metadata": {},
   "outputs": [],
   "source": [
    "grid = np.arange(1,10,1).reshape((3,3))\n"
   ]
  },
  {
   "cell_type": "markdown",
   "metadata": {},
   "source": [
    "# Q6. Replace the maximum value in the given vector, “arr6”, with -1. "
   ]
  },
  {
   "cell_type": "code",
   "execution_count": 8,
   "metadata": {},
   "outputs": [],
   "source": [
    "# Input\n",
    "arr6 = np.arange(10)\n",
    "\n",
    "arr6[arr6.argmax()] = -1"
   ]
  },
  {
   "cell_type": "markdown",
   "metadata": {},
   "source": [
    "# Q7. Reverse the rows of the given 2D array, “arr7”. "
   ]
  },
  {
   "cell_type": "code",
   "execution_count": 9,
   "metadata": {},
   "outputs": [],
   "source": [
    "# Input\n",
    "arr7 = np.arange(9).reshape(3,3)\n",
    "\n",
    "arr7 = arr7[::-1]"
   ]
  },
  {
   "cell_type": "markdown",
   "metadata": {},
   "source": [
    "# Q8. Subtract the mean of each row of the given 2D array, “arr8”, from the values in the array. Set the updated array in “transformed_arr8”."
   ]
  },
  {
   "cell_type": "code",
   "execution_count": 10,
   "metadata": {},
   "outputs": [
    {
     "data": {
      "text/plain": [
       "array([[ 0.22121772,  0.32475997, -0.14655073, -0.10013349, -0.23992323,\n",
       "         0.05961586,  0.10294367,  0.01868064, -0.34312851,  0.1025181 ],\n",
       "       [ 0.28514511,  0.37419941, -0.44159426, -0.09122749,  0.02853372,\n",
       "        -0.08691162,  0.03909047,  0.46569414, -0.2199316 , -0.35299788],\n",
       "       [-0.09167035,  0.0605338 , -0.32117997,  0.2043517 , -0.34437937,\n",
       "         0.39374972, -0.15497976, -0.28169493,  0.01034867,  0.52492049]])"
      ]
     },
     "execution_count": 10,
     "metadata": {},
     "output_type": "execute_result"
    }
   ],
   "source": [
    "# To get the mean along the row axis, you can use the numpy.mean method, mean(axis=1, keepdims=True).\n",
    "\n",
    "# Input\n",
    "arr8 = np.random.rand(3, 10)\n",
    " \n",
    "transformed_arr8 = arr8 - arr8.mean(axis=1, keepdims=True)\n",
    "transformed_arr8"
   ]
  }
 ],
 "metadata": {
  "kernelspec": {
   "display_name": "Python 3",
   "language": "python",
   "name": "python3"
  },
  "language_info": {
   "codemirror_mode": {
    "name": "ipython",
    "version": 3
   },
   "file_extension": ".py",
   "mimetype": "text/x-python",
   "name": "python",
   "nbconvert_exporter": "python",
   "pygments_lexer": "ipython3",
   "version": "3.7.4"
  }
 },
 "nbformat": 4,
 "nbformat_minor": 4
}
